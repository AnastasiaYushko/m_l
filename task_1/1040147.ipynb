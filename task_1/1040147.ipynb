{
  "nbformat": 4,
  "nbformat_minor": 0,
  "metadata": {
    "colab": {
      "provenance": [],
      "toc_visible": true
    },
    "kernelspec": {
      "name": "python3",
      "display_name": "Python 3"
    },
    "language_info": {
      "name": "python"
    }
  },
  "cells": [
    {
      "cell_type": "markdown",
      "source": [
        "<font size = 6>Отбор данных одномерной выборки"
      ],
      "metadata": {
        "id": "dTvmL2MO45GX"
      }
    },
    {
      "cell_type": "markdown",
      "source": [
        "Выполнила: Юшко Анастасия Александровна (ММБ-104)"
      ],
      "metadata": {
        "id": "N5Wvmt2n2-Sh"
      }
    },
    {
      "cell_type": "markdown",
      "source": [
        "#Введение"
      ],
      "metadata": {
        "id": "lP9KGGjC5AFO"
      }
    },
    {
      "cell_type": "markdown",
      "source": [
        "Цель работы – очистка данных одномерной выборки, т.е. поиск и удаление аномальных значений."
      ],
      "metadata": {
        "id": "idV1FXoP5mA4"
      }
    },
    {
      "cell_type": "markdown",
      "source": [
        "Подключаем библиотеки pandas, matplotlib.pyplot, numpy, scipy.stats"
      ],
      "metadata": {
        "id": "HRsS4Yle3KqQ"
      }
    },
    {
      "cell_type": "code",
      "execution_count": 34,
      "metadata": {
        "id": "IgTAVhsuCTGC"
      },
      "outputs": [],
      "source": [
        "import pandas as pd\n",
        "import matplotlib.pyplot as plt\n",
        "import numpy as np\n",
        "import scipy.stats as stats"
      ]
    },
    {
      "cell_type": "markdown",
      "source": [
        "Импортируем данные из файла ML.ds1.csv в новую переменную ds0."
      ],
      "metadata": {
        "id": "ury429Yw3SMA"
      }
    },
    {
      "cell_type": "code",
      "source": [
        "ds0 = pd.read_csv('/content/ML.ds1.csv')"
      ],
      "metadata": {
        "id": "EAFW0fuJDMS0"
      },
      "execution_count": 35,
      "outputs": []
    },
    {
      "cell_type": "markdown",
      "source": [
        "Выводим первые 6 строк данных"
      ],
      "metadata": {
        "id": "ekmY6GY63W4o"
      }
    },
    {
      "cell_type": "code",
      "source": [
        "ds0.head(6)"
      ],
      "metadata": {
        "colab": {
          "base_uri": "https://localhost:8080/",
          "height": 287
        },
        "id": "BgsLl28jDfob",
        "outputId": "6f1fcd73-49fd-45fa-bf70-1dbfce2a2623"
      },
      "execution_count": 36,
      "outputs": [
        {
          "output_type": "execute_result",
          "data": {
            "text/plain": [
              "         v1        v2        v3        v4        v5        v6        v7  \\\n",
              "0  1.674664 -0.105114  1.123071  0.159780 -2.653400  0.731480  0.248630   \n",
              "1  1.815983  0.793212  0.437694  1.374387 -0.055956  0.678019  0.245999   \n",
              "2  0.777174 -1.030174  0.439461  1.371726  1.605366  0.695225  0.969702   \n",
              "3  1.030925  1.576539  0.906160  1.028792 -0.723862  0.626546  0.321099   \n",
              "4  0.872935 -0.723648  1.163915  3.085364  0.129386  0.896113  1.215447   \n",
              "5  0.933576  3.575696  1.290449  2.041408 -0.401215  0.569394  5.372170   \n",
              "\n",
              "         v8        v9       v10  ...       v66       v67       v68       v69  \\\n",
              "0 -2.411234  0.975680  9.011194  ...  0.635269  0.766523  1.108400  1.075446   \n",
              "1  2.632142  1.094653  1.099596  ...  0.967244  0.973246  4.109887  1.034150   \n",
              "2  2.473882  0.910368  4.997584  ...  0.517114  5.820453 -2.094585  1.047369   \n",
              "3 -4.724615  1.039090  6.129512  ...  0.627821  0.499243 -7.330234  0.768444   \n",
              "4  0.969162  0.972609  7.535088  ...  0.589966  1.972031  0.225700  0.943955   \n",
              "5  4.854912  0.990293  4.203574  ...  0.854602  0.893579 -0.311770  0.809873   \n",
              "\n",
              "        v70        v71       v72       v73       v74       v75  \n",
              "0  6.565005   0.839696  0.496592  0.728681 -1.186913  0.871300  \n",
              "1  9.851633   7.415128  0.583847  1.338758  2.582966  1.162462  \n",
              "2  9.560367  -1.748572  0.778761  1.445412 -4.385701  0.858215  \n",
              "3  2.383294   1.495813  0.833851  1.649441 -0.528993  0.695496  \n",
              "4  8.833605  11.804698  0.518266  1.615040  0.328252  1.025233  \n",
              "5  3.677552   5.458099  0.540558  0.775678 -2.894256  0.851994  \n",
              "\n",
              "[6 rows x 75 columns]"
            ],
            "text/html": [
              "\n",
              "  <div id=\"df-e6b960fe-dd4d-438d-97ef-2469175dcbf1\" class=\"colab-df-container\">\n",
              "    <div>\n",
              "<style scoped>\n",
              "    .dataframe tbody tr th:only-of-type {\n",
              "        vertical-align: middle;\n",
              "    }\n",
              "\n",
              "    .dataframe tbody tr th {\n",
              "        vertical-align: top;\n",
              "    }\n",
              "\n",
              "    .dataframe thead th {\n",
              "        text-align: right;\n",
              "    }\n",
              "</style>\n",
              "<table border=\"1\" class=\"dataframe\">\n",
              "  <thead>\n",
              "    <tr style=\"text-align: right;\">\n",
              "      <th></th>\n",
              "      <th>v1</th>\n",
              "      <th>v2</th>\n",
              "      <th>v3</th>\n",
              "      <th>v4</th>\n",
              "      <th>v5</th>\n",
              "      <th>v6</th>\n",
              "      <th>v7</th>\n",
              "      <th>v8</th>\n",
              "      <th>v9</th>\n",
              "      <th>v10</th>\n",
              "      <th>...</th>\n",
              "      <th>v66</th>\n",
              "      <th>v67</th>\n",
              "      <th>v68</th>\n",
              "      <th>v69</th>\n",
              "      <th>v70</th>\n",
              "      <th>v71</th>\n",
              "      <th>v72</th>\n",
              "      <th>v73</th>\n",
              "      <th>v74</th>\n",
              "      <th>v75</th>\n",
              "    </tr>\n",
              "  </thead>\n",
              "  <tbody>\n",
              "    <tr>\n",
              "      <th>0</th>\n",
              "      <td>1.674664</td>\n",
              "      <td>-0.105114</td>\n",
              "      <td>1.123071</td>\n",
              "      <td>0.159780</td>\n",
              "      <td>-2.653400</td>\n",
              "      <td>0.731480</td>\n",
              "      <td>0.248630</td>\n",
              "      <td>-2.411234</td>\n",
              "      <td>0.975680</td>\n",
              "      <td>9.011194</td>\n",
              "      <td>...</td>\n",
              "      <td>0.635269</td>\n",
              "      <td>0.766523</td>\n",
              "      <td>1.108400</td>\n",
              "      <td>1.075446</td>\n",
              "      <td>6.565005</td>\n",
              "      <td>0.839696</td>\n",
              "      <td>0.496592</td>\n",
              "      <td>0.728681</td>\n",
              "      <td>-1.186913</td>\n",
              "      <td>0.871300</td>\n",
              "    </tr>\n",
              "    <tr>\n",
              "      <th>1</th>\n",
              "      <td>1.815983</td>\n",
              "      <td>0.793212</td>\n",
              "      <td>0.437694</td>\n",
              "      <td>1.374387</td>\n",
              "      <td>-0.055956</td>\n",
              "      <td>0.678019</td>\n",
              "      <td>0.245999</td>\n",
              "      <td>2.632142</td>\n",
              "      <td>1.094653</td>\n",
              "      <td>1.099596</td>\n",
              "      <td>...</td>\n",
              "      <td>0.967244</td>\n",
              "      <td>0.973246</td>\n",
              "      <td>4.109887</td>\n",
              "      <td>1.034150</td>\n",
              "      <td>9.851633</td>\n",
              "      <td>7.415128</td>\n",
              "      <td>0.583847</td>\n",
              "      <td>1.338758</td>\n",
              "      <td>2.582966</td>\n",
              "      <td>1.162462</td>\n",
              "    </tr>\n",
              "    <tr>\n",
              "      <th>2</th>\n",
              "      <td>0.777174</td>\n",
              "      <td>-1.030174</td>\n",
              "      <td>0.439461</td>\n",
              "      <td>1.371726</td>\n",
              "      <td>1.605366</td>\n",
              "      <td>0.695225</td>\n",
              "      <td>0.969702</td>\n",
              "      <td>2.473882</td>\n",
              "      <td>0.910368</td>\n",
              "      <td>4.997584</td>\n",
              "      <td>...</td>\n",
              "      <td>0.517114</td>\n",
              "      <td>5.820453</td>\n",
              "      <td>-2.094585</td>\n",
              "      <td>1.047369</td>\n",
              "      <td>9.560367</td>\n",
              "      <td>-1.748572</td>\n",
              "      <td>0.778761</td>\n",
              "      <td>1.445412</td>\n",
              "      <td>-4.385701</td>\n",
              "      <td>0.858215</td>\n",
              "    </tr>\n",
              "    <tr>\n",
              "      <th>3</th>\n",
              "      <td>1.030925</td>\n",
              "      <td>1.576539</td>\n",
              "      <td>0.906160</td>\n",
              "      <td>1.028792</td>\n",
              "      <td>-0.723862</td>\n",
              "      <td>0.626546</td>\n",
              "      <td>0.321099</td>\n",
              "      <td>-4.724615</td>\n",
              "      <td>1.039090</td>\n",
              "      <td>6.129512</td>\n",
              "      <td>...</td>\n",
              "      <td>0.627821</td>\n",
              "      <td>0.499243</td>\n",
              "      <td>-7.330234</td>\n",
              "      <td>0.768444</td>\n",
              "      <td>2.383294</td>\n",
              "      <td>1.495813</td>\n",
              "      <td>0.833851</td>\n",
              "      <td>1.649441</td>\n",
              "      <td>-0.528993</td>\n",
              "      <td>0.695496</td>\n",
              "    </tr>\n",
              "    <tr>\n",
              "      <th>4</th>\n",
              "      <td>0.872935</td>\n",
              "      <td>-0.723648</td>\n",
              "      <td>1.163915</td>\n",
              "      <td>3.085364</td>\n",
              "      <td>0.129386</td>\n",
              "      <td>0.896113</td>\n",
              "      <td>1.215447</td>\n",
              "      <td>0.969162</td>\n",
              "      <td>0.972609</td>\n",
              "      <td>7.535088</td>\n",
              "      <td>...</td>\n",
              "      <td>0.589966</td>\n",
              "      <td>1.972031</td>\n",
              "      <td>0.225700</td>\n",
              "      <td>0.943955</td>\n",
              "      <td>8.833605</td>\n",
              "      <td>11.804698</td>\n",
              "      <td>0.518266</td>\n",
              "      <td>1.615040</td>\n",
              "      <td>0.328252</td>\n",
              "      <td>1.025233</td>\n",
              "    </tr>\n",
              "    <tr>\n",
              "      <th>5</th>\n",
              "      <td>0.933576</td>\n",
              "      <td>3.575696</td>\n",
              "      <td>1.290449</td>\n",
              "      <td>2.041408</td>\n",
              "      <td>-0.401215</td>\n",
              "      <td>0.569394</td>\n",
              "      <td>5.372170</td>\n",
              "      <td>4.854912</td>\n",
              "      <td>0.990293</td>\n",
              "      <td>4.203574</td>\n",
              "      <td>...</td>\n",
              "      <td>0.854602</td>\n",
              "      <td>0.893579</td>\n",
              "      <td>-0.311770</td>\n",
              "      <td>0.809873</td>\n",
              "      <td>3.677552</td>\n",
              "      <td>5.458099</td>\n",
              "      <td>0.540558</td>\n",
              "      <td>0.775678</td>\n",
              "      <td>-2.894256</td>\n",
              "      <td>0.851994</td>\n",
              "    </tr>\n",
              "  </tbody>\n",
              "</table>\n",
              "<p>6 rows × 75 columns</p>\n",
              "</div>\n",
              "    <div class=\"colab-df-buttons\">\n",
              "\n",
              "  <div class=\"colab-df-container\">\n",
              "    <button class=\"colab-df-convert\" onclick=\"convertToInteractive('df-e6b960fe-dd4d-438d-97ef-2469175dcbf1')\"\n",
              "            title=\"Convert this dataframe to an interactive table.\"\n",
              "            style=\"display:none;\">\n",
              "\n",
              "  <svg xmlns=\"http://www.w3.org/2000/svg\" height=\"24px\" viewBox=\"0 -960 960 960\">\n",
              "    <path d=\"M120-120v-720h720v720H120Zm60-500h600v-160H180v160Zm220 220h160v-160H400v160Zm0 220h160v-160H400v160ZM180-400h160v-160H180v160Zm440 0h160v-160H620v160ZM180-180h160v-160H180v160Zm440 0h160v-160H620v160Z\"/>\n",
              "  </svg>\n",
              "    </button>\n",
              "\n",
              "  <style>\n",
              "    .colab-df-container {\n",
              "      display:flex;\n",
              "      gap: 12px;\n",
              "    }\n",
              "\n",
              "    .colab-df-convert {\n",
              "      background-color: #E8F0FE;\n",
              "      border: none;\n",
              "      border-radius: 50%;\n",
              "      cursor: pointer;\n",
              "      display: none;\n",
              "      fill: #1967D2;\n",
              "      height: 32px;\n",
              "      padding: 0 0 0 0;\n",
              "      width: 32px;\n",
              "    }\n",
              "\n",
              "    .colab-df-convert:hover {\n",
              "      background-color: #E2EBFA;\n",
              "      box-shadow: 0px 1px 2px rgba(60, 64, 67, 0.3), 0px 1px 3px 1px rgba(60, 64, 67, 0.15);\n",
              "      fill: #174EA6;\n",
              "    }\n",
              "\n",
              "    .colab-df-buttons div {\n",
              "      margin-bottom: 4px;\n",
              "    }\n",
              "\n",
              "    [theme=dark] .colab-df-convert {\n",
              "      background-color: #3B4455;\n",
              "      fill: #D2E3FC;\n",
              "    }\n",
              "\n",
              "    [theme=dark] .colab-df-convert:hover {\n",
              "      background-color: #434B5C;\n",
              "      box-shadow: 0px 1px 3px 1px rgba(0, 0, 0, 0.15);\n",
              "      filter: drop-shadow(0px 1px 2px rgba(0, 0, 0, 0.3));\n",
              "      fill: #FFFFFF;\n",
              "    }\n",
              "  </style>\n",
              "\n",
              "    <script>\n",
              "      const buttonEl =\n",
              "        document.querySelector('#df-e6b960fe-dd4d-438d-97ef-2469175dcbf1 button.colab-df-convert');\n",
              "      buttonEl.style.display =\n",
              "        google.colab.kernel.accessAllowed ? 'block' : 'none';\n",
              "\n",
              "      async function convertToInteractive(key) {\n",
              "        const element = document.querySelector('#df-e6b960fe-dd4d-438d-97ef-2469175dcbf1');\n",
              "        const dataTable =\n",
              "          await google.colab.kernel.invokeFunction('convertToInteractive',\n",
              "                                                    [key], {});\n",
              "        if (!dataTable) return;\n",
              "\n",
              "        const docLinkHtml = 'Like what you see? Visit the ' +\n",
              "          '<a target=\"_blank\" href=https://colab.research.google.com/notebooks/data_table.ipynb>data table notebook</a>'\n",
              "          + ' to learn more about interactive tables.';\n",
              "        element.innerHTML = '';\n",
              "        dataTable['output_type'] = 'display_data';\n",
              "        await google.colab.output.renderOutput(dataTable, element);\n",
              "        const docLink = document.createElement('div');\n",
              "        docLink.innerHTML = docLinkHtml;\n",
              "        element.appendChild(docLink);\n",
              "      }\n",
              "    </script>\n",
              "  </div>\n",
              "\n",
              "\n",
              "<div id=\"df-07c94194-23e1-445a-a741-b90d719e4c5e\">\n",
              "  <button class=\"colab-df-quickchart\" onclick=\"quickchart('df-07c94194-23e1-445a-a741-b90d719e4c5e')\"\n",
              "            title=\"Suggest charts\"\n",
              "            style=\"display:none;\">\n",
              "\n",
              "<svg xmlns=\"http://www.w3.org/2000/svg\" height=\"24px\"viewBox=\"0 0 24 24\"\n",
              "     width=\"24px\">\n",
              "    <g>\n",
              "        <path d=\"M19 3H5c-1.1 0-2 .9-2 2v14c0 1.1.9 2 2 2h14c1.1 0 2-.9 2-2V5c0-1.1-.9-2-2-2zM9 17H7v-7h2v7zm4 0h-2V7h2v10zm4 0h-2v-4h2v4z\"/>\n",
              "    </g>\n",
              "</svg>\n",
              "  </button>\n",
              "\n",
              "<style>\n",
              "  .colab-df-quickchart {\n",
              "      --bg-color: #E8F0FE;\n",
              "      --fill-color: #1967D2;\n",
              "      --hover-bg-color: #E2EBFA;\n",
              "      --hover-fill-color: #174EA6;\n",
              "      --disabled-fill-color: #AAA;\n",
              "      --disabled-bg-color: #DDD;\n",
              "  }\n",
              "\n",
              "  [theme=dark] .colab-df-quickchart {\n",
              "      --bg-color: #3B4455;\n",
              "      --fill-color: #D2E3FC;\n",
              "      --hover-bg-color: #434B5C;\n",
              "      --hover-fill-color: #FFFFFF;\n",
              "      --disabled-bg-color: #3B4455;\n",
              "      --disabled-fill-color: #666;\n",
              "  }\n",
              "\n",
              "  .colab-df-quickchart {\n",
              "    background-color: var(--bg-color);\n",
              "    border: none;\n",
              "    border-radius: 50%;\n",
              "    cursor: pointer;\n",
              "    display: none;\n",
              "    fill: var(--fill-color);\n",
              "    height: 32px;\n",
              "    padding: 0;\n",
              "    width: 32px;\n",
              "  }\n",
              "\n",
              "  .colab-df-quickchart:hover {\n",
              "    background-color: var(--hover-bg-color);\n",
              "    box-shadow: 0 1px 2px rgba(60, 64, 67, 0.3), 0 1px 3px 1px rgba(60, 64, 67, 0.15);\n",
              "    fill: var(--button-hover-fill-color);\n",
              "  }\n",
              "\n",
              "  .colab-df-quickchart-complete:disabled,\n",
              "  .colab-df-quickchart-complete:disabled:hover {\n",
              "    background-color: var(--disabled-bg-color);\n",
              "    fill: var(--disabled-fill-color);\n",
              "    box-shadow: none;\n",
              "  }\n",
              "\n",
              "  .colab-df-spinner {\n",
              "    border: 2px solid var(--fill-color);\n",
              "    border-color: transparent;\n",
              "    border-bottom-color: var(--fill-color);\n",
              "    animation:\n",
              "      spin 1s steps(1) infinite;\n",
              "  }\n",
              "\n",
              "  @keyframes spin {\n",
              "    0% {\n",
              "      border-color: transparent;\n",
              "      border-bottom-color: var(--fill-color);\n",
              "      border-left-color: var(--fill-color);\n",
              "    }\n",
              "    20% {\n",
              "      border-color: transparent;\n",
              "      border-left-color: var(--fill-color);\n",
              "      border-top-color: var(--fill-color);\n",
              "    }\n",
              "    30% {\n",
              "      border-color: transparent;\n",
              "      border-left-color: var(--fill-color);\n",
              "      border-top-color: var(--fill-color);\n",
              "      border-right-color: var(--fill-color);\n",
              "    }\n",
              "    40% {\n",
              "      border-color: transparent;\n",
              "      border-right-color: var(--fill-color);\n",
              "      border-top-color: var(--fill-color);\n",
              "    }\n",
              "    60% {\n",
              "      border-color: transparent;\n",
              "      border-right-color: var(--fill-color);\n",
              "    }\n",
              "    80% {\n",
              "      border-color: transparent;\n",
              "      border-right-color: var(--fill-color);\n",
              "      border-bottom-color: var(--fill-color);\n",
              "    }\n",
              "    90% {\n",
              "      border-color: transparent;\n",
              "      border-bottom-color: var(--fill-color);\n",
              "    }\n",
              "  }\n",
              "</style>\n",
              "\n",
              "  <script>\n",
              "    async function quickchart(key) {\n",
              "      const quickchartButtonEl =\n",
              "        document.querySelector('#' + key + ' button');\n",
              "      quickchartButtonEl.disabled = true;  // To prevent multiple clicks.\n",
              "      quickchartButtonEl.classList.add('colab-df-spinner');\n",
              "      try {\n",
              "        const charts = await google.colab.kernel.invokeFunction(\n",
              "            'suggestCharts', [key], {});\n",
              "      } catch (error) {\n",
              "        console.error('Error during call to suggestCharts:', error);\n",
              "      }\n",
              "      quickchartButtonEl.classList.remove('colab-df-spinner');\n",
              "      quickchartButtonEl.classList.add('colab-df-quickchart-complete');\n",
              "    }\n",
              "    (() => {\n",
              "      let quickchartButtonEl =\n",
              "        document.querySelector('#df-07c94194-23e1-445a-a741-b90d719e4c5e button');\n",
              "      quickchartButtonEl.style.display =\n",
              "        google.colab.kernel.accessAllowed ? 'block' : 'none';\n",
              "    })();\n",
              "  </script>\n",
              "</div>\n",
              "    </div>\n",
              "  </div>\n"
            ],
            "application/vnd.google.colaboratory.intrinsic+json": {
              "type": "dataframe",
              "variable_name": "ds0"
            }
          },
          "metadata": {},
          "execution_count": 36
        }
      ]
    },
    {
      "cell_type": "markdown",
      "source": [
        "Выделяем в отдельную таблицу ds столбец с номером 47, заменив с помощью функции rename букву v на s"
      ],
      "metadata": {
        "id": "CCvTYWlj3qAn"
      }
    },
    {
      "cell_type": "code",
      "source": [
        "ds = ds0[['v47']].rename({'v47': 's47'}, axis='columns')\n",
        "ds"
      ],
      "metadata": {
        "colab": {
          "base_uri": "https://localhost:8080/",
          "height": 423
        },
        "id": "tNTzFpt-ETdD",
        "outputId": "111422e0-752a-4b39-fe9f-b150c1aaa71c"
      },
      "execution_count": 37,
      "outputs": [
        {
          "output_type": "execute_result",
          "data": {
            "text/plain": [
              "          s47\n",
              "0   -4.050084\n",
              "1    8.675948\n",
              "2   -1.001523\n",
              "3    2.563001\n",
              "4   -0.544271\n",
              "..        ...\n",
              "495 -5.609841\n",
              "496 -2.646267\n",
              "497 -1.608056\n",
              "498 -3.104724\n",
              "499  1.610312\n",
              "\n",
              "[500 rows x 1 columns]"
            ],
            "text/html": [
              "\n",
              "  <div id=\"df-d14822a5-3c7a-4d3d-ae0f-373f03f283db\" class=\"colab-df-container\">\n",
              "    <div>\n",
              "<style scoped>\n",
              "    .dataframe tbody tr th:only-of-type {\n",
              "        vertical-align: middle;\n",
              "    }\n",
              "\n",
              "    .dataframe tbody tr th {\n",
              "        vertical-align: top;\n",
              "    }\n",
              "\n",
              "    .dataframe thead th {\n",
              "        text-align: right;\n",
              "    }\n",
              "</style>\n",
              "<table border=\"1\" class=\"dataframe\">\n",
              "  <thead>\n",
              "    <tr style=\"text-align: right;\">\n",
              "      <th></th>\n",
              "      <th>s47</th>\n",
              "    </tr>\n",
              "  </thead>\n",
              "  <tbody>\n",
              "    <tr>\n",
              "      <th>0</th>\n",
              "      <td>-4.050084</td>\n",
              "    </tr>\n",
              "    <tr>\n",
              "      <th>1</th>\n",
              "      <td>8.675948</td>\n",
              "    </tr>\n",
              "    <tr>\n",
              "      <th>2</th>\n",
              "      <td>-1.001523</td>\n",
              "    </tr>\n",
              "    <tr>\n",
              "      <th>3</th>\n",
              "      <td>2.563001</td>\n",
              "    </tr>\n",
              "    <tr>\n",
              "      <th>4</th>\n",
              "      <td>-0.544271</td>\n",
              "    </tr>\n",
              "    <tr>\n",
              "      <th>...</th>\n",
              "      <td>...</td>\n",
              "    </tr>\n",
              "    <tr>\n",
              "      <th>495</th>\n",
              "      <td>-5.609841</td>\n",
              "    </tr>\n",
              "    <tr>\n",
              "      <th>496</th>\n",
              "      <td>-2.646267</td>\n",
              "    </tr>\n",
              "    <tr>\n",
              "      <th>497</th>\n",
              "      <td>-1.608056</td>\n",
              "    </tr>\n",
              "    <tr>\n",
              "      <th>498</th>\n",
              "      <td>-3.104724</td>\n",
              "    </tr>\n",
              "    <tr>\n",
              "      <th>499</th>\n",
              "      <td>1.610312</td>\n",
              "    </tr>\n",
              "  </tbody>\n",
              "</table>\n",
              "<p>500 rows × 1 columns</p>\n",
              "</div>\n",
              "    <div class=\"colab-df-buttons\">\n",
              "\n",
              "  <div class=\"colab-df-container\">\n",
              "    <button class=\"colab-df-convert\" onclick=\"convertToInteractive('df-d14822a5-3c7a-4d3d-ae0f-373f03f283db')\"\n",
              "            title=\"Convert this dataframe to an interactive table.\"\n",
              "            style=\"display:none;\">\n",
              "\n",
              "  <svg xmlns=\"http://www.w3.org/2000/svg\" height=\"24px\" viewBox=\"0 -960 960 960\">\n",
              "    <path d=\"M120-120v-720h720v720H120Zm60-500h600v-160H180v160Zm220 220h160v-160H400v160Zm0 220h160v-160H400v160ZM180-400h160v-160H180v160Zm440 0h160v-160H620v160ZM180-180h160v-160H180v160Zm440 0h160v-160H620v160Z\"/>\n",
              "  </svg>\n",
              "    </button>\n",
              "\n",
              "  <style>\n",
              "    .colab-df-container {\n",
              "      display:flex;\n",
              "      gap: 12px;\n",
              "    }\n",
              "\n",
              "    .colab-df-convert {\n",
              "      background-color: #E8F0FE;\n",
              "      border: none;\n",
              "      border-radius: 50%;\n",
              "      cursor: pointer;\n",
              "      display: none;\n",
              "      fill: #1967D2;\n",
              "      height: 32px;\n",
              "      padding: 0 0 0 0;\n",
              "      width: 32px;\n",
              "    }\n",
              "\n",
              "    .colab-df-convert:hover {\n",
              "      background-color: #E2EBFA;\n",
              "      box-shadow: 0px 1px 2px rgba(60, 64, 67, 0.3), 0px 1px 3px 1px rgba(60, 64, 67, 0.15);\n",
              "      fill: #174EA6;\n",
              "    }\n",
              "\n",
              "    .colab-df-buttons div {\n",
              "      margin-bottom: 4px;\n",
              "    }\n",
              "\n",
              "    [theme=dark] .colab-df-convert {\n",
              "      background-color: #3B4455;\n",
              "      fill: #D2E3FC;\n",
              "    }\n",
              "\n",
              "    [theme=dark] .colab-df-convert:hover {\n",
              "      background-color: #434B5C;\n",
              "      box-shadow: 0px 1px 3px 1px rgba(0, 0, 0, 0.15);\n",
              "      filter: drop-shadow(0px 1px 2px rgba(0, 0, 0, 0.3));\n",
              "      fill: #FFFFFF;\n",
              "    }\n",
              "  </style>\n",
              "\n",
              "    <script>\n",
              "      const buttonEl =\n",
              "        document.querySelector('#df-d14822a5-3c7a-4d3d-ae0f-373f03f283db button.colab-df-convert');\n",
              "      buttonEl.style.display =\n",
              "        google.colab.kernel.accessAllowed ? 'block' : 'none';\n",
              "\n",
              "      async function convertToInteractive(key) {\n",
              "        const element = document.querySelector('#df-d14822a5-3c7a-4d3d-ae0f-373f03f283db');\n",
              "        const dataTable =\n",
              "          await google.colab.kernel.invokeFunction('convertToInteractive',\n",
              "                                                    [key], {});\n",
              "        if (!dataTable) return;\n",
              "\n",
              "        const docLinkHtml = 'Like what you see? Visit the ' +\n",
              "          '<a target=\"_blank\" href=https://colab.research.google.com/notebooks/data_table.ipynb>data table notebook</a>'\n",
              "          + ' to learn more about interactive tables.';\n",
              "        element.innerHTML = '';\n",
              "        dataTable['output_type'] = 'display_data';\n",
              "        await google.colab.output.renderOutput(dataTable, element);\n",
              "        const docLink = document.createElement('div');\n",
              "        docLink.innerHTML = docLinkHtml;\n",
              "        element.appendChild(docLink);\n",
              "      }\n",
              "    </script>\n",
              "  </div>\n",
              "\n",
              "\n",
              "<div id=\"df-ff9c1111-9633-4436-a55f-7ba1e94de33f\">\n",
              "  <button class=\"colab-df-quickchart\" onclick=\"quickchart('df-ff9c1111-9633-4436-a55f-7ba1e94de33f')\"\n",
              "            title=\"Suggest charts\"\n",
              "            style=\"display:none;\">\n",
              "\n",
              "<svg xmlns=\"http://www.w3.org/2000/svg\" height=\"24px\"viewBox=\"0 0 24 24\"\n",
              "     width=\"24px\">\n",
              "    <g>\n",
              "        <path d=\"M19 3H5c-1.1 0-2 .9-2 2v14c0 1.1.9 2 2 2h14c1.1 0 2-.9 2-2V5c0-1.1-.9-2-2-2zM9 17H7v-7h2v7zm4 0h-2V7h2v10zm4 0h-2v-4h2v4z\"/>\n",
              "    </g>\n",
              "</svg>\n",
              "  </button>\n",
              "\n",
              "<style>\n",
              "  .colab-df-quickchart {\n",
              "      --bg-color: #E8F0FE;\n",
              "      --fill-color: #1967D2;\n",
              "      --hover-bg-color: #E2EBFA;\n",
              "      --hover-fill-color: #174EA6;\n",
              "      --disabled-fill-color: #AAA;\n",
              "      --disabled-bg-color: #DDD;\n",
              "  }\n",
              "\n",
              "  [theme=dark] .colab-df-quickchart {\n",
              "      --bg-color: #3B4455;\n",
              "      --fill-color: #D2E3FC;\n",
              "      --hover-bg-color: #434B5C;\n",
              "      --hover-fill-color: #FFFFFF;\n",
              "      --disabled-bg-color: #3B4455;\n",
              "      --disabled-fill-color: #666;\n",
              "  }\n",
              "\n",
              "  .colab-df-quickchart {\n",
              "    background-color: var(--bg-color);\n",
              "    border: none;\n",
              "    border-radius: 50%;\n",
              "    cursor: pointer;\n",
              "    display: none;\n",
              "    fill: var(--fill-color);\n",
              "    height: 32px;\n",
              "    padding: 0;\n",
              "    width: 32px;\n",
              "  }\n",
              "\n",
              "  .colab-df-quickchart:hover {\n",
              "    background-color: var(--hover-bg-color);\n",
              "    box-shadow: 0 1px 2px rgba(60, 64, 67, 0.3), 0 1px 3px 1px rgba(60, 64, 67, 0.15);\n",
              "    fill: var(--button-hover-fill-color);\n",
              "  }\n",
              "\n",
              "  .colab-df-quickchart-complete:disabled,\n",
              "  .colab-df-quickchart-complete:disabled:hover {\n",
              "    background-color: var(--disabled-bg-color);\n",
              "    fill: var(--disabled-fill-color);\n",
              "    box-shadow: none;\n",
              "  }\n",
              "\n",
              "  .colab-df-spinner {\n",
              "    border: 2px solid var(--fill-color);\n",
              "    border-color: transparent;\n",
              "    border-bottom-color: var(--fill-color);\n",
              "    animation:\n",
              "      spin 1s steps(1) infinite;\n",
              "  }\n",
              "\n",
              "  @keyframes spin {\n",
              "    0% {\n",
              "      border-color: transparent;\n",
              "      border-bottom-color: var(--fill-color);\n",
              "      border-left-color: var(--fill-color);\n",
              "    }\n",
              "    20% {\n",
              "      border-color: transparent;\n",
              "      border-left-color: var(--fill-color);\n",
              "      border-top-color: var(--fill-color);\n",
              "    }\n",
              "    30% {\n",
              "      border-color: transparent;\n",
              "      border-left-color: var(--fill-color);\n",
              "      border-top-color: var(--fill-color);\n",
              "      border-right-color: var(--fill-color);\n",
              "    }\n",
              "    40% {\n",
              "      border-color: transparent;\n",
              "      border-right-color: var(--fill-color);\n",
              "      border-top-color: var(--fill-color);\n",
              "    }\n",
              "    60% {\n",
              "      border-color: transparent;\n",
              "      border-right-color: var(--fill-color);\n",
              "    }\n",
              "    80% {\n",
              "      border-color: transparent;\n",
              "      border-right-color: var(--fill-color);\n",
              "      border-bottom-color: var(--fill-color);\n",
              "    }\n",
              "    90% {\n",
              "      border-color: transparent;\n",
              "      border-bottom-color: var(--fill-color);\n",
              "    }\n",
              "  }\n",
              "</style>\n",
              "\n",
              "  <script>\n",
              "    async function quickchart(key) {\n",
              "      const quickchartButtonEl =\n",
              "        document.querySelector('#' + key + ' button');\n",
              "      quickchartButtonEl.disabled = true;  // To prevent multiple clicks.\n",
              "      quickchartButtonEl.classList.add('colab-df-spinner');\n",
              "      try {\n",
              "        const charts = await google.colab.kernel.invokeFunction(\n",
              "            'suggestCharts', [key], {});\n",
              "      } catch (error) {\n",
              "        console.error('Error during call to suggestCharts:', error);\n",
              "      }\n",
              "      quickchartButtonEl.classList.remove('colab-df-spinner');\n",
              "      quickchartButtonEl.classList.add('colab-df-quickchart-complete');\n",
              "    }\n",
              "    (() => {\n",
              "      let quickchartButtonEl =\n",
              "        document.querySelector('#df-ff9c1111-9633-4436-a55f-7ba1e94de33f button');\n",
              "      quickchartButtonEl.style.display =\n",
              "        google.colab.kernel.accessAllowed ? 'block' : 'none';\n",
              "    })();\n",
              "  </script>\n",
              "</div>\n",
              "    </div>\n",
              "  </div>\n"
            ],
            "application/vnd.google.colaboratory.intrinsic+json": {
              "type": "dataframe",
              "variable_name": "ds",
              "summary": "{\n  \"name\": \"ds\",\n  \"rows\": 500,\n  \"fields\": [\n    {\n      \"column\": \"s47\",\n      \"properties\": {\n        \"dtype\": \"number\",\n        \"std\": 2.5194388425592877,\n        \"min\": -8.23909557826792,\n        \"max\": 8.81798582467017,\n        \"num_unique_values\": 500,\n        \"samples\": [\n          -0.307007826716526,\n          -2.0131140928508,\n          -0.753626885300228\n        ],\n        \"semantic_type\": \"\",\n        \"description\": \"\"\n      }\n    }\n  ]\n}"
            }
          },
          "metadata": {},
          "execution_count": 37
        }
      ]
    },
    {
      "cell_type": "markdown",
      "source": [
        "## Нахождение описательной статистики выборки"
      ],
      "metadata": {
        "id": "2FQKQA1hIZap"
      }
    },
    {
      "cell_type": "markdown",
      "source": [
        "Расчет описательной характеристики"
      ],
      "metadata": {
        "id": "G3ZNOcJj4FvX"
      }
    },
    {
      "cell_type": "code",
      "source": [
        "ds.describe()"
      ],
      "metadata": {
        "colab": {
          "base_uri": "https://localhost:8080/",
          "height": 300
        },
        "id": "h4k9hq5BJe1q",
        "outputId": "ca2f07f5-ec7b-4a93-e9f5-ed72b86b1b58"
      },
      "execution_count": 38,
      "outputs": [
        {
          "output_type": "execute_result",
          "data": {
            "text/plain": [
              "              s47\n",
              "count  500.000000\n",
              "mean     0.136365\n",
              "std      2.519439\n",
              "min     -8.239096\n",
              "25%     -1.199532\n",
              "50%      0.013015\n",
              "75%      1.477210\n",
              "max      8.817986"
            ],
            "text/html": [
              "\n",
              "  <div id=\"df-062c7820-6e67-4149-8560-02e0519e4aed\" class=\"colab-df-container\">\n",
              "    <div>\n",
              "<style scoped>\n",
              "    .dataframe tbody tr th:only-of-type {\n",
              "        vertical-align: middle;\n",
              "    }\n",
              "\n",
              "    .dataframe tbody tr th {\n",
              "        vertical-align: top;\n",
              "    }\n",
              "\n",
              "    .dataframe thead th {\n",
              "        text-align: right;\n",
              "    }\n",
              "</style>\n",
              "<table border=\"1\" class=\"dataframe\">\n",
              "  <thead>\n",
              "    <tr style=\"text-align: right;\">\n",
              "      <th></th>\n",
              "      <th>s47</th>\n",
              "    </tr>\n",
              "  </thead>\n",
              "  <tbody>\n",
              "    <tr>\n",
              "      <th>count</th>\n",
              "      <td>500.000000</td>\n",
              "    </tr>\n",
              "    <tr>\n",
              "      <th>mean</th>\n",
              "      <td>0.136365</td>\n",
              "    </tr>\n",
              "    <tr>\n",
              "      <th>std</th>\n",
              "      <td>2.519439</td>\n",
              "    </tr>\n",
              "    <tr>\n",
              "      <th>min</th>\n",
              "      <td>-8.239096</td>\n",
              "    </tr>\n",
              "    <tr>\n",
              "      <th>25%</th>\n",
              "      <td>-1.199532</td>\n",
              "    </tr>\n",
              "    <tr>\n",
              "      <th>50%</th>\n",
              "      <td>0.013015</td>\n",
              "    </tr>\n",
              "    <tr>\n",
              "      <th>75%</th>\n",
              "      <td>1.477210</td>\n",
              "    </tr>\n",
              "    <tr>\n",
              "      <th>max</th>\n",
              "      <td>8.817986</td>\n",
              "    </tr>\n",
              "  </tbody>\n",
              "</table>\n",
              "</div>\n",
              "    <div class=\"colab-df-buttons\">\n",
              "\n",
              "  <div class=\"colab-df-container\">\n",
              "    <button class=\"colab-df-convert\" onclick=\"convertToInteractive('df-062c7820-6e67-4149-8560-02e0519e4aed')\"\n",
              "            title=\"Convert this dataframe to an interactive table.\"\n",
              "            style=\"display:none;\">\n",
              "\n",
              "  <svg xmlns=\"http://www.w3.org/2000/svg\" height=\"24px\" viewBox=\"0 -960 960 960\">\n",
              "    <path d=\"M120-120v-720h720v720H120Zm60-500h600v-160H180v160Zm220 220h160v-160H400v160Zm0 220h160v-160H400v160ZM180-400h160v-160H180v160Zm440 0h160v-160H620v160ZM180-180h160v-160H180v160Zm440 0h160v-160H620v160Z\"/>\n",
              "  </svg>\n",
              "    </button>\n",
              "\n",
              "  <style>\n",
              "    .colab-df-container {\n",
              "      display:flex;\n",
              "      gap: 12px;\n",
              "    }\n",
              "\n",
              "    .colab-df-convert {\n",
              "      background-color: #E8F0FE;\n",
              "      border: none;\n",
              "      border-radius: 50%;\n",
              "      cursor: pointer;\n",
              "      display: none;\n",
              "      fill: #1967D2;\n",
              "      height: 32px;\n",
              "      padding: 0 0 0 0;\n",
              "      width: 32px;\n",
              "    }\n",
              "\n",
              "    .colab-df-convert:hover {\n",
              "      background-color: #E2EBFA;\n",
              "      box-shadow: 0px 1px 2px rgba(60, 64, 67, 0.3), 0px 1px 3px 1px rgba(60, 64, 67, 0.15);\n",
              "      fill: #174EA6;\n",
              "    }\n",
              "\n",
              "    .colab-df-buttons div {\n",
              "      margin-bottom: 4px;\n",
              "    }\n",
              "\n",
              "    [theme=dark] .colab-df-convert {\n",
              "      background-color: #3B4455;\n",
              "      fill: #D2E3FC;\n",
              "    }\n",
              "\n",
              "    [theme=dark] .colab-df-convert:hover {\n",
              "      background-color: #434B5C;\n",
              "      box-shadow: 0px 1px 3px 1px rgba(0, 0, 0, 0.15);\n",
              "      filter: drop-shadow(0px 1px 2px rgba(0, 0, 0, 0.3));\n",
              "      fill: #FFFFFF;\n",
              "    }\n",
              "  </style>\n",
              "\n",
              "    <script>\n",
              "      const buttonEl =\n",
              "        document.querySelector('#df-062c7820-6e67-4149-8560-02e0519e4aed button.colab-df-convert');\n",
              "      buttonEl.style.display =\n",
              "        google.colab.kernel.accessAllowed ? 'block' : 'none';\n",
              "\n",
              "      async function convertToInteractive(key) {\n",
              "        const element = document.querySelector('#df-062c7820-6e67-4149-8560-02e0519e4aed');\n",
              "        const dataTable =\n",
              "          await google.colab.kernel.invokeFunction('convertToInteractive',\n",
              "                                                    [key], {});\n",
              "        if (!dataTable) return;\n",
              "\n",
              "        const docLinkHtml = 'Like what you see? Visit the ' +\n",
              "          '<a target=\"_blank\" href=https://colab.research.google.com/notebooks/data_table.ipynb>data table notebook</a>'\n",
              "          + ' to learn more about interactive tables.';\n",
              "        element.innerHTML = '';\n",
              "        dataTable['output_type'] = 'display_data';\n",
              "        await google.colab.output.renderOutput(dataTable, element);\n",
              "        const docLink = document.createElement('div');\n",
              "        docLink.innerHTML = docLinkHtml;\n",
              "        element.appendChild(docLink);\n",
              "      }\n",
              "    </script>\n",
              "  </div>\n",
              "\n",
              "\n",
              "<div id=\"df-de4d28db-d3e7-4671-aa58-2dabe3de064c\">\n",
              "  <button class=\"colab-df-quickchart\" onclick=\"quickchart('df-de4d28db-d3e7-4671-aa58-2dabe3de064c')\"\n",
              "            title=\"Suggest charts\"\n",
              "            style=\"display:none;\">\n",
              "\n",
              "<svg xmlns=\"http://www.w3.org/2000/svg\" height=\"24px\"viewBox=\"0 0 24 24\"\n",
              "     width=\"24px\">\n",
              "    <g>\n",
              "        <path d=\"M19 3H5c-1.1 0-2 .9-2 2v14c0 1.1.9 2 2 2h14c1.1 0 2-.9 2-2V5c0-1.1-.9-2-2-2zM9 17H7v-7h2v7zm4 0h-2V7h2v10zm4 0h-2v-4h2v4z\"/>\n",
              "    </g>\n",
              "</svg>\n",
              "  </button>\n",
              "\n",
              "<style>\n",
              "  .colab-df-quickchart {\n",
              "      --bg-color: #E8F0FE;\n",
              "      --fill-color: #1967D2;\n",
              "      --hover-bg-color: #E2EBFA;\n",
              "      --hover-fill-color: #174EA6;\n",
              "      --disabled-fill-color: #AAA;\n",
              "      --disabled-bg-color: #DDD;\n",
              "  }\n",
              "\n",
              "  [theme=dark] .colab-df-quickchart {\n",
              "      --bg-color: #3B4455;\n",
              "      --fill-color: #D2E3FC;\n",
              "      --hover-bg-color: #434B5C;\n",
              "      --hover-fill-color: #FFFFFF;\n",
              "      --disabled-bg-color: #3B4455;\n",
              "      --disabled-fill-color: #666;\n",
              "  }\n",
              "\n",
              "  .colab-df-quickchart {\n",
              "    background-color: var(--bg-color);\n",
              "    border: none;\n",
              "    border-radius: 50%;\n",
              "    cursor: pointer;\n",
              "    display: none;\n",
              "    fill: var(--fill-color);\n",
              "    height: 32px;\n",
              "    padding: 0;\n",
              "    width: 32px;\n",
              "  }\n",
              "\n",
              "  .colab-df-quickchart:hover {\n",
              "    background-color: var(--hover-bg-color);\n",
              "    box-shadow: 0 1px 2px rgba(60, 64, 67, 0.3), 0 1px 3px 1px rgba(60, 64, 67, 0.15);\n",
              "    fill: var(--button-hover-fill-color);\n",
              "  }\n",
              "\n",
              "  .colab-df-quickchart-complete:disabled,\n",
              "  .colab-df-quickchart-complete:disabled:hover {\n",
              "    background-color: var(--disabled-bg-color);\n",
              "    fill: var(--disabled-fill-color);\n",
              "    box-shadow: none;\n",
              "  }\n",
              "\n",
              "  .colab-df-spinner {\n",
              "    border: 2px solid var(--fill-color);\n",
              "    border-color: transparent;\n",
              "    border-bottom-color: var(--fill-color);\n",
              "    animation:\n",
              "      spin 1s steps(1) infinite;\n",
              "  }\n",
              "\n",
              "  @keyframes spin {\n",
              "    0% {\n",
              "      border-color: transparent;\n",
              "      border-bottom-color: var(--fill-color);\n",
              "      border-left-color: var(--fill-color);\n",
              "    }\n",
              "    20% {\n",
              "      border-color: transparent;\n",
              "      border-left-color: var(--fill-color);\n",
              "      border-top-color: var(--fill-color);\n",
              "    }\n",
              "    30% {\n",
              "      border-color: transparent;\n",
              "      border-left-color: var(--fill-color);\n",
              "      border-top-color: var(--fill-color);\n",
              "      border-right-color: var(--fill-color);\n",
              "    }\n",
              "    40% {\n",
              "      border-color: transparent;\n",
              "      border-right-color: var(--fill-color);\n",
              "      border-top-color: var(--fill-color);\n",
              "    }\n",
              "    60% {\n",
              "      border-color: transparent;\n",
              "      border-right-color: var(--fill-color);\n",
              "    }\n",
              "    80% {\n",
              "      border-color: transparent;\n",
              "      border-right-color: var(--fill-color);\n",
              "      border-bottom-color: var(--fill-color);\n",
              "    }\n",
              "    90% {\n",
              "      border-color: transparent;\n",
              "      border-bottom-color: var(--fill-color);\n",
              "    }\n",
              "  }\n",
              "</style>\n",
              "\n",
              "  <script>\n",
              "    async function quickchart(key) {\n",
              "      const quickchartButtonEl =\n",
              "        document.querySelector('#' + key + ' button');\n",
              "      quickchartButtonEl.disabled = true;  // To prevent multiple clicks.\n",
              "      quickchartButtonEl.classList.add('colab-df-spinner');\n",
              "      try {\n",
              "        const charts = await google.colab.kernel.invokeFunction(\n",
              "            'suggestCharts', [key], {});\n",
              "      } catch (error) {\n",
              "        console.error('Error during call to suggestCharts:', error);\n",
              "      }\n",
              "      quickchartButtonEl.classList.remove('colab-df-spinner');\n",
              "      quickchartButtonEl.classList.add('colab-df-quickchart-complete');\n",
              "    }\n",
              "    (() => {\n",
              "      let quickchartButtonEl =\n",
              "        document.querySelector('#df-de4d28db-d3e7-4671-aa58-2dabe3de064c button');\n",
              "      quickchartButtonEl.style.display =\n",
              "        google.colab.kernel.accessAllowed ? 'block' : 'none';\n",
              "    })();\n",
              "  </script>\n",
              "</div>\n",
              "    </div>\n",
              "  </div>\n"
            ],
            "application/vnd.google.colaboratory.intrinsic+json": {
              "type": "dataframe",
              "summary": "{\n  \"name\": \"ds\",\n  \"rows\": 8,\n  \"fields\": [\n    {\n      \"column\": \"s47\",\n      \"properties\": {\n        \"dtype\": \"number\",\n        \"std\": 176.66085342418359,\n        \"min\": -8.23909557826792,\n        \"max\": 500.0,\n        \"num_unique_values\": 8,\n        \"samples\": [\n          0.13636517600384906,\n          0.01301544815089,\n          500.0\n        ],\n        \"semantic_type\": \"\",\n        \"description\": \"\"\n      }\n    }\n  ]\n}"
            }
          },
          "metadata": {},
          "execution_count": 38
        }
      ]
    },
    {
      "cell_type": "markdown",
      "source": [
        "Расчитает числовые характеристики выборки"
      ],
      "metadata": {
        "id": "u8Mgaf3j4SJQ"
      }
    },
    {
      "cell_type": "markdown",
      "source": [
        "**mean()** - среднее выборочное, т.е то оценка математического ожидания генеральной совокупности, представленной имеющейся выборкой. Среднее выборочное является средним значением всех элементов выборки."
      ],
      "metadata": {
        "id": "l6Yt1BzANdLl"
      }
    },
    {
      "cell_type": "code",
      "source": [
        "ds_mean = ds['s47'].mean()\n",
        "ds_mean"
      ],
      "metadata": {
        "colab": {
          "base_uri": "https://localhost:8080/"
        },
        "id": "yw0bB1k0IwoK",
        "outputId": "7b73c7f9-abb4-4e24-a7d1-6a6c92df729a"
      },
      "execution_count": 39,
      "outputs": [
        {
          "output_type": "execute_result",
          "data": {
            "text/plain": [
              "0.13636517600384906"
            ]
          },
          "metadata": {},
          "execution_count": 39
        }
      ]
    },
    {
      "cell_type": "markdown",
      "source": [
        "**std()** - стандартное отклонение, т.е мера разброса данных относительно их среднего значения. Оно показывает, насколько значения выборки распределены относительно среднего значения."
      ],
      "metadata": {
        "id": "W-9ubzqJN5xq"
      }
    },
    {
      "cell_type": "code",
      "source": [
        "ds_std = ds['s47'].std()\n",
        "ds_std"
      ],
      "metadata": {
        "colab": {
          "base_uri": "https://localhost:8080/"
        },
        "id": "lKT95EF_JlYB",
        "outputId": "48e37b4d-25b7-4455-fff5-a9af7c7cf3d5"
      },
      "execution_count": 40,
      "outputs": [
        {
          "output_type": "execute_result",
          "data": {
            "text/plain": [
              "2.5194388425592877"
            ]
          },
          "metadata": {},
          "execution_count": 40
        }
      ]
    },
    {
      "cell_type": "markdown",
      "source": [
        "**meadian()** - выборочная медиана, т.е значение, которое делит упорядоченную выборку пополам. То есть, 50% значений выборки меньше медианы, а 50% — больше."
      ],
      "metadata": {
        "id": "1RjByXsGOKuB"
      }
    },
    {
      "cell_type": "code",
      "source": [
        "ds_median = ds['s47'].median()\n",
        "ds_median"
      ],
      "metadata": {
        "colab": {
          "base_uri": "https://localhost:8080/"
        },
        "id": "gYJIPERBJ6A5",
        "outputId": "18baf53b-b20d-44fa-d594-ad8796a75123"
      },
      "execution_count": 41,
      "outputs": [
        {
          "output_type": "execute_result",
          "data": {
            "text/plain": [
              "0.01301544815089"
            ]
          },
          "metadata": {},
          "execution_count": 41
        }
      ]
    },
    {
      "cell_type": "markdown",
      "source": [
        "**skew()** - выборочный коэффициент асимметрии, т.е оценка коэффициента асимметрии генеральной совокупности. Показывает, насколько данные скошены относительно среднего значения и в какую сторону."
      ],
      "metadata": {
        "id": "QwGRBK9fOXSJ"
      }
    },
    {
      "cell_type": "code",
      "source": [
        "ds_skewness = ds['s47'].skew()\n",
        "ds_skewness"
      ],
      "metadata": {
        "colab": {
          "base_uri": "https://localhost:8080/"
        },
        "id": "mlyyCmhiKt4R",
        "outputId": "00438c48-9b54-4d53-cf7f-91e6d0372a53"
      },
      "execution_count": 42,
      "outputs": [
        {
          "output_type": "execute_result",
          "data": {
            "text/plain": [
              "0.2156790623596383"
            ]
          },
          "metadata": {},
          "execution_count": 42
        }
      ]
    },
    {
      "cell_type": "markdown",
      "source": [
        "Эти характеристики помогают понять распределение данных в выборке и сделать выводы о генеральной совокупности на основе имеющихся данных."
      ],
      "metadata": {
        "id": "g7brS9jmOuRi"
      }
    },
    {
      "cell_type": "markdown",
      "source": [
        "Создаем таблицу с перечисленными выше характеристиками. Организовываем\n",
        "список с названиями характеристик, список с их значениями, применив функцию\n",
        "DataFrame пакета pd."
      ],
      "metadata": {
        "id": "pTXJ1sUG4dN4"
      }
    },
    {
      "cell_type": "code",
      "source": [
        "characteristics = ['Среднее выборочное', 'Стандартное отклонение', 'Выборочная медиана', 'Выборочный коэффициент асимметрии']\n",
        "values = [ds_mean, ds_std, ds_median, ds_skewness]\n",
        "\n",
        "df = pd.DataFrame(values, characteristics, columns = ['Значение']).T\n",
        "df"
      ],
      "metadata": {
        "colab": {
          "base_uri": "https://localhost:8080/",
          "height": 81
        },
        "id": "tP_fndo8MLGa",
        "outputId": "d6783040-18ed-48d7-abe1-1892c3b455a4"
      },
      "execution_count": 43,
      "outputs": [
        {
          "output_type": "execute_result",
          "data": {
            "text/plain": [
              "          Среднее выборочное  Стандартное отклонение  Выборочная медиана  \\\n",
              "Значение            0.136365                2.519439            0.013015   \n",
              "\n",
              "          Выборочный коэффициент асимметрии  \n",
              "Значение                           0.215679  "
            ],
            "text/html": [
              "\n",
              "  <div id=\"df-a8912335-2c77-4695-bf88-f20ee0f5ec06\" class=\"colab-df-container\">\n",
              "    <div>\n",
              "<style scoped>\n",
              "    .dataframe tbody tr th:only-of-type {\n",
              "        vertical-align: middle;\n",
              "    }\n",
              "\n",
              "    .dataframe tbody tr th {\n",
              "        vertical-align: top;\n",
              "    }\n",
              "\n",
              "    .dataframe thead th {\n",
              "        text-align: right;\n",
              "    }\n",
              "</style>\n",
              "<table border=\"1\" class=\"dataframe\">\n",
              "  <thead>\n",
              "    <tr style=\"text-align: right;\">\n",
              "      <th></th>\n",
              "      <th>Среднее выборочное</th>\n",
              "      <th>Стандартное отклонение</th>\n",
              "      <th>Выборочная медиана</th>\n",
              "      <th>Выборочный коэффициент асимметрии</th>\n",
              "    </tr>\n",
              "  </thead>\n",
              "  <tbody>\n",
              "    <tr>\n",
              "      <th>Значение</th>\n",
              "      <td>0.136365</td>\n",
              "      <td>2.519439</td>\n",
              "      <td>0.013015</td>\n",
              "      <td>0.215679</td>\n",
              "    </tr>\n",
              "  </tbody>\n",
              "</table>\n",
              "</div>\n",
              "    <div class=\"colab-df-buttons\">\n",
              "\n",
              "  <div class=\"colab-df-container\">\n",
              "    <button class=\"colab-df-convert\" onclick=\"convertToInteractive('df-a8912335-2c77-4695-bf88-f20ee0f5ec06')\"\n",
              "            title=\"Convert this dataframe to an interactive table.\"\n",
              "            style=\"display:none;\">\n",
              "\n",
              "  <svg xmlns=\"http://www.w3.org/2000/svg\" height=\"24px\" viewBox=\"0 -960 960 960\">\n",
              "    <path d=\"M120-120v-720h720v720H120Zm60-500h600v-160H180v160Zm220 220h160v-160H400v160Zm0 220h160v-160H400v160ZM180-400h160v-160H180v160Zm440 0h160v-160H620v160ZM180-180h160v-160H180v160Zm440 0h160v-160H620v160Z\"/>\n",
              "  </svg>\n",
              "    </button>\n",
              "\n",
              "  <style>\n",
              "    .colab-df-container {\n",
              "      display:flex;\n",
              "      gap: 12px;\n",
              "    }\n",
              "\n",
              "    .colab-df-convert {\n",
              "      background-color: #E8F0FE;\n",
              "      border: none;\n",
              "      border-radius: 50%;\n",
              "      cursor: pointer;\n",
              "      display: none;\n",
              "      fill: #1967D2;\n",
              "      height: 32px;\n",
              "      padding: 0 0 0 0;\n",
              "      width: 32px;\n",
              "    }\n",
              "\n",
              "    .colab-df-convert:hover {\n",
              "      background-color: #E2EBFA;\n",
              "      box-shadow: 0px 1px 2px rgba(60, 64, 67, 0.3), 0px 1px 3px 1px rgba(60, 64, 67, 0.15);\n",
              "      fill: #174EA6;\n",
              "    }\n",
              "\n",
              "    .colab-df-buttons div {\n",
              "      margin-bottom: 4px;\n",
              "    }\n",
              "\n",
              "    [theme=dark] .colab-df-convert {\n",
              "      background-color: #3B4455;\n",
              "      fill: #D2E3FC;\n",
              "    }\n",
              "\n",
              "    [theme=dark] .colab-df-convert:hover {\n",
              "      background-color: #434B5C;\n",
              "      box-shadow: 0px 1px 3px 1px rgba(0, 0, 0, 0.15);\n",
              "      filter: drop-shadow(0px 1px 2px rgba(0, 0, 0, 0.3));\n",
              "      fill: #FFFFFF;\n",
              "    }\n",
              "  </style>\n",
              "\n",
              "    <script>\n",
              "      const buttonEl =\n",
              "        document.querySelector('#df-a8912335-2c77-4695-bf88-f20ee0f5ec06 button.colab-df-convert');\n",
              "      buttonEl.style.display =\n",
              "        google.colab.kernel.accessAllowed ? 'block' : 'none';\n",
              "\n",
              "      async function convertToInteractive(key) {\n",
              "        const element = document.querySelector('#df-a8912335-2c77-4695-bf88-f20ee0f5ec06');\n",
              "        const dataTable =\n",
              "          await google.colab.kernel.invokeFunction('convertToInteractive',\n",
              "                                                    [key], {});\n",
              "        if (!dataTable) return;\n",
              "\n",
              "        const docLinkHtml = 'Like what you see? Visit the ' +\n",
              "          '<a target=\"_blank\" href=https://colab.research.google.com/notebooks/data_table.ipynb>data table notebook</a>'\n",
              "          + ' to learn more about interactive tables.';\n",
              "        element.innerHTML = '';\n",
              "        dataTable['output_type'] = 'display_data';\n",
              "        await google.colab.output.renderOutput(dataTable, element);\n",
              "        const docLink = document.createElement('div');\n",
              "        docLink.innerHTML = docLinkHtml;\n",
              "        element.appendChild(docLink);\n",
              "      }\n",
              "    </script>\n",
              "  </div>\n",
              "\n",
              "    </div>\n",
              "  </div>\n"
            ],
            "application/vnd.google.colaboratory.intrinsic+json": {
              "type": "dataframe",
              "variable_name": "df",
              "summary": "{\n  \"name\": \"df\",\n  \"rows\": 1,\n  \"fields\": [\n    {\n      \"column\": \"\\u0421\\u0440\\u0435\\u0434\\u043d\\u0435\\u0435 \\u0432\\u044b\\u0431\\u043e\\u0440\\u043e\\u0447\\u043d\\u043e\\u0435\",\n      \"properties\": {\n        \"dtype\": \"number\",\n        \"std\": null,\n        \"min\": 0.13636517600384906,\n        \"max\": 0.13636517600384906,\n        \"num_unique_values\": 1,\n        \"samples\": [\n          0.13636517600384906\n        ],\n        \"semantic_type\": \"\",\n        \"description\": \"\"\n      }\n    },\n    {\n      \"column\": \"\\u0421\\u0442\\u0430\\u043d\\u0434\\u0430\\u0440\\u0442\\u043d\\u043e\\u0435 \\u043e\\u0442\\u043a\\u043b\\u043e\\u043d\\u0435\\u043d\\u0438\\u0435\",\n      \"properties\": {\n        \"dtype\": \"number\",\n        \"std\": null,\n        \"min\": 2.5194388425592877,\n        \"max\": 2.5194388425592877,\n        \"num_unique_values\": 1,\n        \"samples\": [\n          2.5194388425592877\n        ],\n        \"semantic_type\": \"\",\n        \"description\": \"\"\n      }\n    },\n    {\n      \"column\": \"\\u0412\\u044b\\u0431\\u043e\\u0440\\u043e\\u0447\\u043d\\u0430\\u044f \\u043c\\u0435\\u0434\\u0438\\u0430\\u043d\\u0430\",\n      \"properties\": {\n        \"dtype\": \"number\",\n        \"std\": null,\n        \"min\": 0.01301544815089,\n        \"max\": 0.01301544815089,\n        \"num_unique_values\": 1,\n        \"samples\": [\n          0.01301544815089\n        ],\n        \"semantic_type\": \"\",\n        \"description\": \"\"\n      }\n    },\n    {\n      \"column\": \"\\u0412\\u044b\\u0431\\u043e\\u0440\\u043e\\u0447\\u043d\\u044b\\u0439 \\u043a\\u043e\\u044d\\u0444\\u0444\\u0438\\u0446\\u0438\\u0435\\u043d\\u0442 \\u0430\\u0441\\u0438\\u043c\\u043c\\u0435\\u0442\\u0440\\u0438\\u0438\",\n      \"properties\": {\n        \"dtype\": \"number\",\n        \"std\": null,\n        \"min\": 0.2156790623596383,\n        \"max\": 0.2156790623596383,\n        \"num_unique_values\": 1,\n        \"samples\": [\n          0.2156790623596383\n        ],\n        \"semantic_type\": \"\",\n        \"description\": \"\"\n      }\n    }\n  ]\n}"
            }
          },
          "metadata": {},
          "execution_count": 43
        }
      ]
    },
    {
      "cell_type": "markdown",
      "source": [
        "# Визуализация данных"
      ],
      "metadata": {
        "id": "f4fFEizXO24R"
      }
    },
    {
      "cell_type": "markdown",
      "source": [
        "## Построение диграммы рассеивания"
      ],
      "metadata": {
        "id": "pU1qHOr6kauf"
      }
    },
    {
      "cell_type": "markdown",
      "source": [
        "Scatterplot обычно используется для визуализации двух переменных, чтобы показать связь между ними. Тк у нас есть только один столбец, то нужно добавить вторую переменную.\n",
        "\n",
        "Поэтому мы создаем вторую переменную, которая будет содержать индексы элементов в вашем столбце чисел, и затем построить scatterplot с этими данными."
      ],
      "metadata": {
        "id": "ju9jqcLxauq0"
      }
    },
    {
      "cell_type": "code",
      "source": [
        "indices = range(len(ds))"
      ],
      "metadata": {
        "id": "1wrzhVKqaU5k"
      },
      "execution_count": 44,
      "outputs": []
    },
    {
      "cell_type": "markdown",
      "source": [
        "C помощью функции **scatter** пакета matplotlib.pyplot построим\n",
        "диаграмму рассеияния выборки, расположив выборочные значения по\n",
        "горизонтальной оси.\n",
        "\n",
        "На диаграмме отобразим названия самой диаграммы, с помощью **title()** и\n",
        "ее координатных осей, используя **xlabel()** и **ylabel()**"
      ],
      "metadata": {
        "id": "s0zroJRyZ0Hb"
      }
    },
    {
      "cell_type": "code",
      "source": [
        "plt.scatter(ds, indices,color = 'red')\n",
        "plt.xlabel('Значения')\n",
        "plt.ylabel('Индексы')\n",
        "plt.title('Scatterplot для одномерной выборки')\n",
        "plt.show()"
      ],
      "metadata": {
        "colab": {
          "base_uri": "https://localhost:8080/",
          "height": 472
        },
        "id": "La9bfm4cQPKr",
        "outputId": "adbc11b9-c538-4040-e40b-ae23dba18f6d"
      },
      "execution_count": 45,
      "outputs": [
        {
          "output_type": "display_data",
          "data": {
            "text/plain": [
              "<Figure size 640x480 with 1 Axes>"
            ],
            "image/png": "[encoded data removed]"
          },
          "metadata": {}
        }
      ]
    },
    {
      "cell_type": "markdown",
      "source": [
        "Анализ одномерной выборки на основе диаграммы рассеивания показывает следующее:\n",
        "\n",
        "---\n",
        "\n",
        "\n",
        "\n",
        "1) Основная концентрация значений находится в диапазоне от -2.5 до 2.5. Выбросы, такие как максимальное значение (8.817986) и минимальное (-8.239096), считаются аномалиями, так как они значительно отличаются от основной группы значений.\n",
        "\n",
        "2) Можно предположить, что распределение генеральной совокупности **симметрично**. Близкое расположение медианы и среднего обычно свидетельствует о симметричном распределении данных в выборке. Основной скопление значений наблюдается вблизи 0, а максимальное и минимальное значения близки друг к другу по модулю, что способствует созданию симметричного графика значений, без сдвига в какую либо сторону"
      ],
      "metadata": {
        "id": "MXnNz4wEW-oa"
      }
    },
    {
      "cell_type": "markdown",
      "source": [
        "## Построение диаграммы размаха"
      ],
      "metadata": {
        "id": "7qM712oukT5e"
      }
    },
    {
      "cell_type": "markdown",
      "source": [
        "C помощью функции boxplot пакета matplotlib.pyplot построим диаграмму размаха.\n",
        "\n",
        "Указываем свойство **vert = 0**, чтобы отобразить диаграмму горизонтально\n",
        "\n",
        "Для изменение цветовой гаммы диаграммы задаем свойство **patch_artist=True**, которое позволяет обозначить, что мы будем вносить некие изменения.\n",
        "\n",
        "**boxprops** - позволяет изменить цвет внутренности бокса\n",
        "\n",
        "**capprops** - позволяет изменить цвет концов \"усов\"\n",
        "\n",
        "**flierprors** - позволяет изменить цвет выбросов\n",
        "\n",
        "**medianprops** - позволяет изменить цвет медианы\n",
        "\n",
        "На диаграмме отображаем названия самой диаграммы и ее горизонтальной оси."
      ],
      "metadata": {
        "id": "AcfozzmqbOSD"
      }
    },
    {
      "cell_type": "code",
      "source": [
        "plt.boxplot(ds, vert = 0,  patch_artist=True,\n",
        "      boxprops=dict(facecolor=\"blue\"),\n",
        "      capprops=dict(color=\"green\"),\n",
        "      flierprops=dict(markeredgecolor=\"pink\"),\n",
        "      medianprops=dict(color=\"black\"))\n",
        "plt.ylabel('Значения')\n",
        "plt.title('Boxplot для одномерной выборки')\n",
        "plt.show()"
      ],
      "metadata": {
        "colab": {
          "base_uri": "https://localhost:8080/",
          "height": 452
        },
        "id": "YlJimCw5YN6A",
        "outputId": "f51271aa-157e-4069-e5ac-14878c765905"
      },
      "execution_count": 46,
      "outputs": [
        {
          "output_type": "display_data",
          "data": {
            "text/plain": [
              "<Figure size 640x480 with 1 Axes>"
            ],
            "image/png": "[encoded data removed]"
          },
          "metadata": {}
        }
      ]
    },
    {
      "cell_type": "markdown",
      "source": [
        "*Линия внутри бокса* - медиана\n",
        "\n",
        "*Боковины бокса* - это 1 и 3 квантиль ( 25 и 75 процентили)\n",
        "\n",
        "*Концы усов* - максимальное и минимальное значения, с исключением выбросов\n",
        "\n",
        "*Значения за усами* - выбросы"
      ],
      "metadata": {
        "id": "t_sPdtNQcFl4"
      }
    },
    {
      "cell_type": "markdown",
      "source": [
        "**Выбросы ( аномалии )** - значения, значительно отличающиеся от остальных значений"
      ],
      "metadata": {
        "id": "oB8YFLYmdf8A"
      }
    },
    {
      "cell_type": "markdown",
      "source": [
        "Анализ одномерной выборки на основе диаграммы размаха показывает следующее:\n",
        "\n",
        "---\n",
        "\n",
        "\n",
        "\n",
        "1) График имеет выбросы которые находятся примерно за пределами значений <-5.0 и >5.5\n",
        "\n",
        "2) Скорее всего генеральная совокупность симметрична, тк наблюдается симметричность выбросов и примерное равенство усов. Нормальные значения без выбросов находятся примерно симметрично нуля и распределены от -5 до 5.5"
      ],
      "metadata": {
        "id": "lfD7mHllhnVA"
      }
    },
    {
      "cell_type": "markdown",
      "source": [
        "## Построение гистограммы"
      ],
      "metadata": {
        "id": "2GhgYi7ckRa4"
      }
    },
    {
      "cell_type": "markdown",
      "source": [
        "Построим гистограмму с добавлением линии плотности нормального распределения\n",
        "\n",
        "C помощью функции hist пакета matplotlib.pyplot построим гистограмму\n",
        "относительных частот.\n",
        "\n",
        "Добавим на полученный рисунок линию плотности нормального распределения.\n",
        "\n",
        "Для этого сначала зададим множество значений аргумента (от минимального до максимального элемента выборки) с помощью функции linspace пакета numpy\n",
        "\n",
        "Затем зададим значения ординат точек графика с помощью функции norm.prd()\n",
        "\n",
        "Затем построим с помощью функции plot пакета matplotlib.pyplot кривую плотности"
      ],
      "metadata": {
        "id": "wLKnJNiRZfgF"
      }
    },
    {
      "cell_type": "code",
      "source": [
        "plt.hist(ds, bins=30, density=True, color='skyblue', edgecolor='black')\n",
        "plt.title('Гистограмма относительных частот')\n",
        "plt.xlabel('Значения')\n",
        "plt.ylabel('Относительные частоты')\n",
        "\n",
        "from scipy.stats import norm\n",
        "x = np.linspace(min(ds['s47']), max(ds['s47']))\n",
        "y = norm.pdf(x, np.mean(ds), np.std(ds))\n",
        "plt.plot(x, y, color='green', marker='o', markersize=5)\n",
        "\n",
        "plt.show()"
      ],
      "metadata": {
        "colab": {
          "base_uri": "https://localhost:8080/",
          "height": 527
        },
        "id": "M02NxpmCik4P",
        "outputId": "2b43a347-0242-4a6d-b4ca-4d8fd3c9cb64"
      },
      "execution_count": 47,
      "outputs": [
        {
          "output_type": "stream",
          "name": "stderr",
          "text": [
            "/usr/local/lib/python3.10/dist-packages/numpy/core/fromnumeric.py:3502: FutureWarning: In a future version, DataFrame.mean(axis=None) will return a scalar mean over the entire DataFrame. To retain the old behavior, use 'frame.mean(axis=0)' or just 'frame.mean()'\n",
            "  return mean(axis=axis, dtype=dtype, out=out, **kwargs)\n"
          ]
        },
        {
          "output_type": "display_data",
          "data": {
            "text/plain": [
              "<Figure size 640x480 with 1 Axes>"
            ],
            "image/png": "[encoded data removed]"
          },
          "metadata": {}
        }
      ]
    },
    {
      "cell_type": "markdown",
      "source": [
        "Анализ одномерной выборки на основе гистограммы показывает следующее:\n",
        "\n",
        "---\n",
        "\n",
        "\n",
        "\n",
        "Гистограммы и линии плотности нормального распределения говорит о том, что данные распределены равномерно вокруг среднего значения и отклонения от этого значения равнозначны как в положительном, так и в отрицательном направлении.\n",
        "\n",
        "Исходя из диаграммы, скорее всего генеральная совокупность имеет нормальное распределение и является симметричной\n"
      ],
      "metadata": {
        "id": "nzmmD3iZzJfu"
      }
    },
    {
      "cell_type": "markdown",
      "source": [
        "## Итоги анализа диаграмм\n",
        "\n",
        "По- видимому, распределение генеральной совокупности является симметричным, это обусловлена равномерным распределением данных вокруг их среднего значения, а также наличием баланса отклонений значений в разных направлениях. Близкое расположение медианы и среднего значения также помогает нам сделать вывод о предполагаемой симметричности совокупности\n",
        "\n",
        "Также в данной выборке присутствуют аномалии, которые значительно отличаются от основных значений."
      ],
      "metadata": {
        "id": "-Py3oOK4wKpG"
      }
    },
    {
      "cell_type": "markdown",
      "source": [
        "# Проверка на симметричность"
      ],
      "metadata": {
        "id": "CI3PUCknz4w1"
      }
    },
    {
      "cell_type": "markdown",
      "source": [
        "Проведем первый тест основанный на сравнении выборочного среднего с выборочной медианой, для этого вычислим наблюдаемое заначение и критическое"
      ],
      "metadata": {
        "id": "qSUlNbi4xcDj"
      }
    },
    {
      "cell_type": "markdown",
      "source": [
        "Расчитаем наблюдаемое значение"
      ],
      "metadata": {
        "id": "n-yImAYhxfiR"
      }
    },
    {
      "cell_type": "code",
      "source": [
        "xn1 = abs(ds_mean - ds_median)\n",
        "xn1"
      ],
      "metadata": {
        "colab": {
          "base_uri": "https://localhost:8080/"
        },
        "id": "DaX-JX5pkGd0",
        "outputId": "eb1ac367-1433-4b6c-9eae-4740da1a9d19"
      },
      "execution_count": 48,
      "outputs": [
        {
          "output_type": "execute_result",
          "data": {
            "text/plain": [
              "0.12334972785295906"
            ]
          },
          "metadata": {},
          "execution_count": 48
        }
      ]
    },
    {
      "cell_type": "markdown",
      "source": [
        "Расчитаем критическое значение"
      ],
      "metadata": {
        "id": "SdJhyDYAn5AT"
      }
    },
    {
      "cell_type": "code",
      "source": [
        "xk1 = (3*ds_std)/(np.sqrt(500))\n",
        "xk1"
      ],
      "metadata": {
        "colab": {
          "base_uri": "https://localhost:8080/"
        },
        "id": "pVpNgTZCyBSU",
        "outputId": "495f0cbc-9e8c-4ef9-9723-44cb26f4e70a"
      },
      "execution_count": 49,
      "outputs": [
        {
          "output_type": "execute_result",
          "data": {
            "text/plain": [
              "0.33801819102695746"
            ]
          },
          "metadata": {},
          "execution_count": 49
        }
      ]
    },
    {
      "cell_type": "markdown",
      "source": [
        "Наблюдаемое значение получилось меньше критического, следовательно гипотеза о симметричности генеральной совокупности принимается.\n",
        "\n",
        "---\n",
        "\n"
      ],
      "metadata": {
        "id": "5u9Nd0H_yRUR"
      }
    },
    {
      "cell_type": "markdown",
      "source": [
        "Проведем второй тест основанный на оценке величины выборочного коэффициента асимметричности, для этого вычислим наблюдаемое заначение и критическое"
      ],
      "metadata": {
        "id": "iAaGvdndygVZ"
      }
    },
    {
      "cell_type": "markdown",
      "source": [
        "Наблюдаемое значение"
      ],
      "metadata": {
        "id": "_5xcElGFylCr"
      }
    },
    {
      "cell_type": "code",
      "source": [
        "xn2 = abs(ds_skewness)\n",
        "xn2"
      ],
      "metadata": {
        "colab": {
          "base_uri": "https://localhost:8080/"
        },
        "id": "TDNKkBI0ymrx",
        "outputId": "fbcf96c2-5c67-4a52-959c-e6ddf85dddc9"
      },
      "execution_count": 50,
      "outputs": [
        {
          "output_type": "execute_result",
          "data": {
            "text/plain": [
              "0.2156790623596383"
            ]
          },
          "metadata": {},
          "execution_count": 50
        }
      ]
    },
    {
      "cell_type": "markdown",
      "source": [
        "Критическое значение"
      ],
      "metadata": {
        "id": "cyxQ673-y7Vl"
      }
    },
    {
      "cell_type": "markdown",
      "source": [],
      "metadata": {
        "id": "Lp0t9Vv2zfLs"
      }
    },
    {
      "cell_type": "code",
      "source": [
        "q = 500\n",
        "xk2 = 3*np.sqrt((6*(q - 1))/((q + 1)*(q + 3)))\n",
        "xk2"
      ],
      "metadata": {
        "colab": {
          "base_uri": "https://localhost:8080/"
        },
        "id": "hi8Hkq7Dyv-Z",
        "outputId": "04347868-7408-4e85-8e8e-5e5537789a9e"
      },
      "execution_count": 51,
      "outputs": [
        {
          "output_type": "execute_result",
          "data": {
            "text/plain": [
              "0.3269973982840565"
            ]
          },
          "metadata": {},
          "execution_count": 51
        }
      ]
    },
    {
      "cell_type": "markdown",
      "source": [
        "Наблюдаемое значение получилось меньше критического, следовательно гипотеза о симметричности генеральной совокупности принимается."
      ],
      "metadata": {
        "id": "zAM78hygy9Ta"
      }
    },
    {
      "cell_type": "markdown",
      "source": [
        "Исходя из проведенных тестов можно сделать вывод :\n",
        "\n",
        "---\n",
        "\n",
        "Генеральная совокупность является симметричной на основании анализа результатов тестов"
      ],
      "metadata": {
        "id": "hC1JIY7ezL95"
      }
    },
    {
      "cell_type": "markdown",
      "source": [
        "#Отбор данных"
      ],
      "metadata": {
        "id": "7IB7xs1g5Yd_"
      }
    },
    {
      "cell_type": "markdown",
      "source": [
        "На основе исследования симметричности генеральной совокупности считаю, что интервалом, который будет использоваться для отбора данных является **(-5 , 5.5)**"
      ],
      "metadata": {
        "id": "MbQ0Xs1v-1GQ"
      }
    },
    {
      "cell_type": "markdown",
      "source": [
        "Попробую проверить свою теорию используя процедуру отбора данных (поиска выбросов)"
      ],
      "metadata": {
        "id": "amKAeBpO_MYQ"
      }
    },
    {
      "cell_type": "markdown",
      "source": [
        "Вычислим границы A и B интервала для отбора данных.\n",
        "\n",
        "\n",
        "Для этого сначала расчитаем 25 и 75 процентили."
      ],
      "metadata": {
        "id": "HTVbah55A3nn"
      }
    },
    {
      "cell_type": "code",
      "source": [
        "q25 = ds['s47'].quantile(0.25)\n",
        "q75 = ds['s47'].quantile(0.75)\n",
        "q25,q75"
      ],
      "metadata": {
        "colab": {
          "base_uri": "https://localhost:8080/"
        },
        "id": "4QfTjzXi-M03",
        "outputId": "78640b4c-7ab5-4b19-c82a-2c9792cd1efc"
      },
      "execution_count": 52,
      "outputs": [
        {
          "output_type": "execute_result",
          "data": {
            "text/plain": [
              "(-1.19953194726176, 1.4772099158253025)"
            ]
          },
          "metadata": {},
          "execution_count": 52
        }
      ]
    },
    {
      "cell_type": "markdown",
      "source": [
        "Далее воспользуемся формулами [a-1.5(b-a), b+1.5(b-a)]"
      ],
      "metadata": {
        "id": "qwJmeIE4CD34"
      }
    },
    {
      "cell_type": "code",
      "source": [
        "A = q25-1.5*(q75-q25)\n",
        "B = q75+1.5*(q75-q25)\n",
        "A,B"
      ],
      "metadata": {
        "colab": {
          "base_uri": "https://localhost:8080/"
        },
        "id": "vKVnaR6t-PPn",
        "outputId": "88a0882c-af35-41a9-dbe7-d034eaebf860"
      },
      "execution_count": 53,
      "outputs": [
        {
          "output_type": "execute_result",
          "data": {
            "text/plain": [
              "(-5.214644741892354, 5.4923227104558965)"
            ]
          },
          "metadata": {},
          "execution_count": 53
        }
      ]
    },
    {
      "cell_type": "markdown",
      "source": [
        "Используя ограничения на элементы столбца с данными, выясним, какие\n",
        "выборочные значения находятся вне интервала"
      ],
      "metadata": {
        "id": "srKxqFbLFTmH"
      }
    },
    {
      "cell_type": "code",
      "source": [
        "dni=ds[(ds['s47']>=B) | (ds['s47']<=A)]\n",
        "print('Количество значений:',len(dni.value_counts()),'\\n')\n",
        "dni.value_counts()"
      ],
      "metadata": {
        "colab": {
          "base_uri": "https://localhost:8080/"
        },
        "id": "rkfK3fu0CclP",
        "outputId": "75f48df3-f3e9-4efb-ef1f-19e32b14a1a8"
      },
      "execution_count": 54,
      "outputs": [
        {
          "output_type": "stream",
          "name": "stdout",
          "text": [
            "Количество значений: 28 \n",
            "\n"
          ]
        },
        {
          "output_type": "execute_result",
          "data": {
            "text/plain": [
              "s47      \n",
              "-8.239096    1\n",
              "-7.816632    1\n",
              " 8.675948    1\n",
              " 8.430028    1\n",
              " 7.442695    1\n",
              " 7.244014    1\n",
              " 7.038364    1\n",
              " 6.785812    1\n",
              " 6.761262    1\n",
              " 6.687870    1\n",
              " 6.616698    1\n",
              " 6.368245    1\n",
              " 5.944391    1\n",
              " 5.896268    1\n",
              " 5.737622    1\n",
              " 5.550457    1\n",
              "-5.322700    1\n",
              "-5.405383    1\n",
              "-5.576276    1\n",
              "-5.609841    1\n",
              "-5.844455    1\n",
              "-6.053128    1\n",
              "-6.103045    1\n",
              "-6.477900    1\n",
              "-6.526384    1\n",
              "-6.806427    1\n",
              "-6.999186    1\n",
              " 8.817986    1\n",
              "dtype: int64"
            ]
          },
          "metadata": {},
          "execution_count": 54
        }
      ]
    },
    {
      "cell_type": "markdown",
      "source": [
        "Введем новую таблицу с отобранными данными"
      ],
      "metadata": {
        "id": "qekTl81xHqM2"
      }
    },
    {
      "cell_type": "code",
      "source": [
        "di=ds[(ds['s47']<B) & (ds['s47']>A)]\n",
        "di"
      ],
      "metadata": {
        "colab": {
          "base_uri": "https://localhost:8080/",
          "height": 423
        },
        "id": "eLtG9UPGFiSe",
        "outputId": "fb7801fd-75cc-4806-bafc-8de719e6d91f"
      },
      "execution_count": 55,
      "outputs": [
        {
          "output_type": "execute_result",
          "data": {
            "text/plain": [
              "          s47\n",
              "0   -4.050084\n",
              "2   -1.001523\n",
              "3    2.563001\n",
              "4   -0.544271\n",
              "5    0.863205\n",
              "..        ...\n",
              "494 -1.353956\n",
              "496 -2.646267\n",
              "497 -1.608056\n",
              "498 -3.104724\n",
              "499  1.610312\n",
              "\n",
              "[472 rows x 1 columns]"
            ],
            "text/html": [
              "\n",
              "  <div id=\"df-d68327ff-b39b-4257-a5ce-78597d1a998d\" class=\"colab-df-container\">\n",
              "    <div>\n",
              "<style scoped>\n",
              "    .dataframe tbody tr th:only-of-type {\n",
              "        vertical-align: middle;\n",
              "    }\n",
              "\n",
              "    .dataframe tbody tr th {\n",
              "        vertical-align: top;\n",
              "    }\n",
              "\n",
              "    .dataframe thead th {\n",
              "        text-align: right;\n",
              "    }\n",
              "</style>\n",
              "<table border=\"1\" class=\"dataframe\">\n",
              "  <thead>\n",
              "    <tr style=\"text-align: right;\">\n",
              "      <th></th>\n",
              "      <th>s47</th>\n",
              "    </tr>\n",
              "  </thead>\n",
              "  <tbody>\n",
              "    <tr>\n",
              "      <th>0</th>\n",
              "      <td>-4.050084</td>\n",
              "    </tr>\n",
              "    <tr>\n",
              "      <th>2</th>\n",
              "      <td>-1.001523</td>\n",
              "    </tr>\n",
              "    <tr>\n",
              "      <th>3</th>\n",
              "      <td>2.563001</td>\n",
              "    </tr>\n",
              "    <tr>\n",
              "      <th>4</th>\n",
              "      <td>-0.544271</td>\n",
              "    </tr>\n",
              "    <tr>\n",
              "      <th>5</th>\n",
              "      <td>0.863205</td>\n",
              "    </tr>\n",
              "    <tr>\n",
              "      <th>...</th>\n",
              "      <td>...</td>\n",
              "    </tr>\n",
              "    <tr>\n",
              "      <th>494</th>\n",
              "      <td>-1.353956</td>\n",
              "    </tr>\n",
              "    <tr>\n",
              "      <th>496</th>\n",
              "      <td>-2.646267</td>\n",
              "    </tr>\n",
              "    <tr>\n",
              "      <th>497</th>\n",
              "      <td>-1.608056</td>\n",
              "    </tr>\n",
              "    <tr>\n",
              "      <th>498</th>\n",
              "      <td>-3.104724</td>\n",
              "    </tr>\n",
              "    <tr>\n",
              "      <th>499</th>\n",
              "      <td>1.610312</td>\n",
              "    </tr>\n",
              "  </tbody>\n",
              "</table>\n",
              "<p>472 rows × 1 columns</p>\n",
              "</div>\n",
              "    <div class=\"colab-df-buttons\">\n",
              "\n",
              "  <div class=\"colab-df-container\">\n",
              "    <button class=\"colab-df-convert\" onclick=\"convertToInteractive('df-d68327ff-b39b-4257-a5ce-78597d1a998d')\"\n",
              "            title=\"Convert this dataframe to an interactive table.\"\n",
              "            style=\"display:none;\">\n",
              "\n",
              "  <svg xmlns=\"http://www.w3.org/2000/svg\" height=\"24px\" viewBox=\"0 -960 960 960\">\n",
              "    <path d=\"M120-120v-720h720v720H120Zm60-500h600v-160H180v160Zm220 220h160v-160H400v160Zm0 220h160v-160H400v160ZM180-400h160v-160H180v160Zm440 0h160v-160H620v160ZM180-180h160v-160H180v160Zm440 0h160v-160H620v160Z\"/>\n",
              "  </svg>\n",
              "    </button>\n",
              "\n",
              "  <style>\n",
              "    .colab-df-container {\n",
              "      display:flex;\n",
              "      gap: 12px;\n",
              "    }\n",
              "\n",
              "    .colab-df-convert {\n",
              "      background-color: #E8F0FE;\n",
              "      border: none;\n",
              "      border-radius: 50%;\n",
              "      cursor: pointer;\n",
              "      display: none;\n",
              "      fill: #1967D2;\n",
              "      height: 32px;\n",
              "      padding: 0 0 0 0;\n",
              "      width: 32px;\n",
              "    }\n",
              "\n",
              "    .colab-df-convert:hover {\n",
              "      background-color: #E2EBFA;\n",
              "      box-shadow: 0px 1px 2px rgba(60, 64, 67, 0.3), 0px 1px 3px 1px rgba(60, 64, 67, 0.15);\n",
              "      fill: #174EA6;\n",
              "    }\n",
              "\n",
              "    .colab-df-buttons div {\n",
              "      margin-bottom: 4px;\n",
              "    }\n",
              "\n",
              "    [theme=dark] .colab-df-convert {\n",
              "      background-color: #3B4455;\n",
              "      fill: #D2E3FC;\n",
              "    }\n",
              "\n",
              "    [theme=dark] .colab-df-convert:hover {\n",
              "      background-color: #434B5C;\n",
              "      box-shadow: 0px 1px 3px 1px rgba(0, 0, 0, 0.15);\n",
              "      filter: drop-shadow(0px 1px 2px rgba(0, 0, 0, 0.3));\n",
              "      fill: #FFFFFF;\n",
              "    }\n",
              "  </style>\n",
              "\n",
              "    <script>\n",
              "      const buttonEl =\n",
              "        document.querySelector('#df-d68327ff-b39b-4257-a5ce-78597d1a998d button.colab-df-convert');\n",
              "      buttonEl.style.display =\n",
              "        google.colab.kernel.accessAllowed ? 'block' : 'none';\n",
              "\n",
              "      async function convertToInteractive(key) {\n",
              "        const element = document.querySelector('#df-d68327ff-b39b-4257-a5ce-78597d1a998d');\n",
              "        const dataTable =\n",
              "          await google.colab.kernel.invokeFunction('convertToInteractive',\n",
              "                                                    [key], {});\n",
              "        if (!dataTable) return;\n",
              "\n",
              "        const docLinkHtml = 'Like what you see? Visit the ' +\n",
              "          '<a target=\"_blank\" href=https://colab.research.google.com/notebooks/data_table.ipynb>data table notebook</a>'\n",
              "          + ' to learn more about interactive tables.';\n",
              "        element.innerHTML = '';\n",
              "        dataTable['output_type'] = 'display_data';\n",
              "        await google.colab.output.renderOutput(dataTable, element);\n",
              "        const docLink = document.createElement('div');\n",
              "        docLink.innerHTML = docLinkHtml;\n",
              "        element.appendChild(docLink);\n",
              "      }\n",
              "    </script>\n",
              "  </div>\n",
              "\n",
              "\n",
              "<div id=\"df-68b10e3d-9650-4774-9991-493fe295add2\">\n",
              "  <button class=\"colab-df-quickchart\" onclick=\"quickchart('df-68b10e3d-9650-4774-9991-493fe295add2')\"\n",
              "            title=\"Suggest charts\"\n",
              "            style=\"display:none;\">\n",
              "\n",
              "<svg xmlns=\"http://www.w3.org/2000/svg\" height=\"24px\"viewBox=\"0 0 24 24\"\n",
              "     width=\"24px\">\n",
              "    <g>\n",
              "        <path d=\"M19 3H5c-1.1 0-2 .9-2 2v14c0 1.1.9 2 2 2h14c1.1 0 2-.9 2-2V5c0-1.1-.9-2-2-2zM9 17H7v-7h2v7zm4 0h-2V7h2v10zm4 0h-2v-4h2v4z\"/>\n",
              "    </g>\n",
              "</svg>\n",
              "  </button>\n",
              "\n",
              "<style>\n",
              "  .colab-df-quickchart {\n",
              "      --bg-color: #E8F0FE;\n",
              "      --fill-color: #1967D2;\n",
              "      --hover-bg-color: #E2EBFA;\n",
              "      --hover-fill-color: #174EA6;\n",
              "      --disabled-fill-color: #AAA;\n",
              "      --disabled-bg-color: #DDD;\n",
              "  }\n",
              "\n",
              "  [theme=dark] .colab-df-quickchart {\n",
              "      --bg-color: #3B4455;\n",
              "      --fill-color: #D2E3FC;\n",
              "      --hover-bg-color: #434B5C;\n",
              "      --hover-fill-color: #FFFFFF;\n",
              "      --disabled-bg-color: #3B4455;\n",
              "      --disabled-fill-color: #666;\n",
              "  }\n",
              "\n",
              "  .colab-df-quickchart {\n",
              "    background-color: var(--bg-color);\n",
              "    border: none;\n",
              "    border-radius: 50%;\n",
              "    cursor: pointer;\n",
              "    display: none;\n",
              "    fill: var(--fill-color);\n",
              "    height: 32px;\n",
              "    padding: 0;\n",
              "    width: 32px;\n",
              "  }\n",
              "\n",
              "  .colab-df-quickchart:hover {\n",
              "    background-color: var(--hover-bg-color);\n",
              "    box-shadow: 0 1px 2px rgba(60, 64, 67, 0.3), 0 1px 3px 1px rgba(60, 64, 67, 0.15);\n",
              "    fill: var(--button-hover-fill-color);\n",
              "  }\n",
              "\n",
              "  .colab-df-quickchart-complete:disabled,\n",
              "  .colab-df-quickchart-complete:disabled:hover {\n",
              "    background-color: var(--disabled-bg-color);\n",
              "    fill: var(--disabled-fill-color);\n",
              "    box-shadow: none;\n",
              "  }\n",
              "\n",
              "  .colab-df-spinner {\n",
              "    border: 2px solid var(--fill-color);\n",
              "    border-color: transparent;\n",
              "    border-bottom-color: var(--fill-color);\n",
              "    animation:\n",
              "      spin 1s steps(1) infinite;\n",
              "  }\n",
              "\n",
              "  @keyframes spin {\n",
              "    0% {\n",
              "      border-color: transparent;\n",
              "      border-bottom-color: var(--fill-color);\n",
              "      border-left-color: var(--fill-color);\n",
              "    }\n",
              "    20% {\n",
              "      border-color: transparent;\n",
              "      border-left-color: var(--fill-color);\n",
              "      border-top-color: var(--fill-color);\n",
              "    }\n",
              "    30% {\n",
              "      border-color: transparent;\n",
              "      border-left-color: var(--fill-color);\n",
              "      border-top-color: var(--fill-color);\n",
              "      border-right-color: var(--fill-color);\n",
              "    }\n",
              "    40% {\n",
              "      border-color: transparent;\n",
              "      border-right-color: var(--fill-color);\n",
              "      border-top-color: var(--fill-color);\n",
              "    }\n",
              "    60% {\n",
              "      border-color: transparent;\n",
              "      border-right-color: var(--fill-color);\n",
              "    }\n",
              "    80% {\n",
              "      border-color: transparent;\n",
              "      border-right-color: var(--fill-color);\n",
              "      border-bottom-color: var(--fill-color);\n",
              "    }\n",
              "    90% {\n",
              "      border-color: transparent;\n",
              "      border-bottom-color: var(--fill-color);\n",
              "    }\n",
              "  }\n",
              "</style>\n",
              "\n",
              "  <script>\n",
              "    async function quickchart(key) {\n",
              "      const quickchartButtonEl =\n",
              "        document.querySelector('#' + key + ' button');\n",
              "      quickchartButtonEl.disabled = true;  // To prevent multiple clicks.\n",
              "      quickchartButtonEl.classList.add('colab-df-spinner');\n",
              "      try {\n",
              "        const charts = await google.colab.kernel.invokeFunction(\n",
              "            'suggestCharts', [key], {});\n",
              "      } catch (error) {\n",
              "        console.error('Error during call to suggestCharts:', error);\n",
              "      }\n",
              "      quickchartButtonEl.classList.remove('colab-df-spinner');\n",
              "      quickchartButtonEl.classList.add('colab-df-quickchart-complete');\n",
              "    }\n",
              "    (() => {\n",
              "      let quickchartButtonEl =\n",
              "        document.querySelector('#df-68b10e3d-9650-4774-9991-493fe295add2 button');\n",
              "      quickchartButtonEl.style.display =\n",
              "        google.colab.kernel.accessAllowed ? 'block' : 'none';\n",
              "    })();\n",
              "  </script>\n",
              "</div>\n",
              "    </div>\n",
              "  </div>\n"
            ],
            "application/vnd.google.colaboratory.intrinsic+json": {
              "type": "dataframe",
              "variable_name": "di",
              "summary": "{\n  \"name\": \"di\",\n  \"rows\": 472,\n  \"fields\": [\n    {\n      \"column\": \"s47\",\n      \"properties\": {\n        \"dtype\": \"number\",\n        \"std\": 2.007888508307705,\n        \"min\": -4.89529568333485,\n        \"max\": 5.47525889142136,\n        \"num_unique_values\": 472,\n        \"samples\": [\n          1.77178296339153,\n          4.52717627793331,\n          -1.60651539429998\n        ],\n        \"semantic_type\": \"\",\n        \"description\": \"\"\n      }\n    }\n  ]\n}"
            }
          },
          "metadata": {},
          "execution_count": 55
        }
      ]
    },
    {
      "cell_type": "markdown",
      "source": [
        "Итоги очистки данных:\n",
        "\n",
        "---\n",
        "\n",
        "\n",
        "\n",
        "Как можно заметить их стало 472, вместо 500. Как раз исключились 28 значений, не вошедшие в интервал.\n",
        "\n",
        "Это поможет повысить качество данных, которые можно использовать для дальнейшего анализа."
      ],
      "metadata": {
        "id": "GsYETydAIonO"
      }
    },
    {
      "cell_type": "markdown",
      "source": [
        "#Заключение"
      ],
      "metadata": {
        "id": "ZjvC24GP5blQ"
      }
    },
    {
      "cell_type": "markdown",
      "source": [
        "Выполнена поставленная цель - произведена очистка данных одномерной выборки, т.е. поиск и удаление аномальных значений.\n"
      ],
      "metadata": {
        "id": "8OT9IQtnWFK1"
      }
    },
    {
      "cell_type": "markdown",
      "source": [
        "Были использованы библиотеки: pandas, matplotlib.pyplot, numpy, scipy.stats.\n",
        "\n",
        "Визуализированы и проанализированы диаграммы рассеяния, размаха и гистограмма, проведена проверка генеральной совокупности на симметричность и произведен отбор данных.\n",
        "\n",
        "На основе данного анализа сделаны предварительные выводы, что\n",
        "\n",
        "1. Данная генеральная совокупность является симметричной\n",
        "2. В ней присутсвиуют выбросы\n",
        "\n",
        "На основании двух тестов гипотеза о симметричности генеральной совокупности подтверждена.\n",
        "\n",
        "На основе анализа диаграмм и при отборе данных было обнаружено 28 аномальных значений"
      ],
      "metadata": {
        "id": "FNElMnl0XAqk"
      }
    }
  ]
}